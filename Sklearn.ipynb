{
 "cells": [
  {
   "cell_type": "markdown",
   "id": "f84311ab-36c0-4158-ac18-db77a30a20b0",
   "metadata": {},
   "source": [
    "## Python packages\n",
    "\n",
    "### NumPy: multi-dimensional arrays, linear algebra, math\n",
    "[Numpy.org](https://numpy.org/)  \n",
    "`import numpy as np`\n",
    "\n",
    "### Matplotlib: data visualization\n",
    "[matplotlib.org](https://matplotlib.org/)  \n",
    "`import matplotlib.pyplot as plt`\n",
    "\n",
    "### scikit-learn: machine learning library maintained by Google\n",
    "[scikit-learn.org](https://scikit-learn.org/stable/)  \n",
    "`import sklearn.cluster`  \n",
    "\n",
    "When in doubt, read the docs!\n",
    "\n",
    "---"
   ]
  },
  {
   "cell_type": "code",
   "execution_count": 2,
   "id": "440bafe0-8b1b-44fa-a838-d5f4fa48c912",
   "metadata": {},
   "outputs": [],
   "source": [
    "import matplotlib.pyplot as plt\n",
    "import numpy as np"
   ]
  },
  {
   "cell_type": "code",
   "execution_count": null,
   "id": "7bf38c73-9faf-4034-84b9-9cec138546a1",
   "metadata": {},
   "outputs": [],
   "source": [
    "np.random.seed(1)\n",
    "\n",
    "mean1 = np.array([5.0, 5.0])\n",
    "cov1 = np.array([[1.0, 0.5], [0.5, 1.0]])\n",
    "dist1 = np.random.multivariate_normal(mean1, cov1, 250)\n",
    "\n",
    "mean2 = np.array([-5.0, -5.0])\n",
    "cov2 = np.array([[1.0, 0.5], [0.5, 1.0]])\n",
    "dist2 = np.random.multivariate_normal(mean2, cov2, 250)\n",
    "\n",
    "mean3 = np.array([-5.0, 5.0])\n",
    "cov3 = np.array([[1.0, 0.5], [0.5, 1.0]])\n",
    "dist3 = np.random.multivariate_normal(mean3, cov3, 250)\n",
    "\n",
    "dists = np.concatenate((dist1, dist2, dist3), axis=0)\n",
    "\n",
    "plt.figure(figsize=(10, 10))\n",
    "plt.plot(dists[:,0], dists[:,1], 'o')\n",
    "plt.axis('equal')\n",
    "plt.xlabel(\"Predictor 1\")\n",
    "plt.ylabel(\"Predictor 2\")\n",
    "plt.show()"
   ]
  },
  {
   "cell_type": "code",
   "execution_count": null,
   "id": "8c726ac7-b487-448e-aa20-3ae1b0c70ba1",
   "metadata": {},
   "outputs": [],
   "source": [
    "import sklearn.cluster\n",
    "\n",
    "kmeans_model = sklearn.cluster.KMeans(n_clusters=3)\n",
    "kmeans_model.fit(dists)\n",
    "clusters = kmeans_model.predict(dists)\n",
    "\n",
    "plt.figure(figsize=(10, 10))\n",
    "plt.scatter(dists[:,0], dists[:,1], c=clusters, cmap=plt.get_cmap('Paired'))\n",
    "plt.axis('equal')\n",
    "plt.show()"
   ]
  },
  {
   "cell_type": "code",
   "execution_count": null,
   "id": "e5ac05a7-94a4-4cb3-8b5a-234db9c9b6b9",
   "metadata": {},
   "outputs": [],
   "source": [
    "# Set a random seed so we all have the same results\n",
    "np.random.seed(1)\n",
    "\n",
    "# Create cluster #1\n",
    "mean1 = np.array([5.0, 5.0])\n",
    "cov1 = np.array([[1.0, 0.5], [0.5, 1.0]])\n",
    "dist1 = np.random.multivariate_normal(mean1, cov1, 250)\n",
    "\n",
    "# Create cluster #2\n",
    "mean2 = np.array([-5.0, -5.0])\n",
    "cov2 = np.array([[4.0, 0.5], [0.5, 4.0]])\n",
    "dist2 = np.random.multivariate_normal(mean2, cov2, 250)\n",
    "\n",
    "mean3 = np.array([-3.0, 3.0])\n",
    "cov3 = np.array([[1.0, -0.9], [-0.9, 1.0]])\n",
    "dist3 = np.random.multivariate_normal(mean3, cov3, 250)\n",
    "\n",
    "dists = np.concatenate((dist1, dist2, dist3), axis=0)\n",
    "\n",
    "plt.figure(figsize=(10, 10))\n",
    "plt.plot(dists[:,0], dists[:,1], 'o')\n",
    "plt.axis('equal')\n",
    "plt.xlabel(\"Predictor 1\")\n",
    "plt.ylabel(\"Predictor 2\")\n",
    "plt.show()"
   ]
  },
  {
   "cell_type": "code",
   "execution_count": null,
   "id": "265bd339-3fb2-41c8-90bd-2474ab409dcc",
   "metadata": {},
   "outputs": [],
   "source": [
    "# Initialze K-Means with 3 clusters\n",
    "kmeans_model = sklearn.cluster.KMeans(n_clusters=3)\n",
    "\n",
    "# Train the model using the data\n",
    "kmeans_model.fit(dists)\n",
    "\n",
    "# Run the model on our data to calculate clusters\n",
    "clusters = kmeans_model.predict(dists)\n",
    "\n",
    "plt.figure(figsize=(10, 10))\n",
    "plt.scatter(dists[:,0], dists[:,1], c=clusters, cmap=plt.get_cmap('Paired'))\n",
    "plt.axis('equal')\n",
    "plt.show()"
   ]
  },
  {
   "cell_type": "code",
   "execution_count": null,
   "id": "e46f1344-5d55-4a96-88bf-39ede26b4cf2",
   "metadata": {},
   "outputs": [],
   "source": [
    "import sklearn.mixture\n",
    "\n",
    "mixture_model = sklearn.mixture.GaussianMixture(n_components=3, random_state=1)\n",
    "\n",
    "mixture_model.fit(dists)\n",
    "\n",
    "mixture_clusters = mixture_model.predict(dists)\n",
    "\n",
    "plt.figure(figsize=(10, 10))\n",
    "plt.scatter(dists[:,0], dists[:,1], c=mixture_clusters, cmap=plt.get_cmap('Paired'))\n",
    "plt.axis('equal')\n",
    "plt.show()"
   ]
  }
 ],
 "metadata": {
  "kernelspec": {
   "display_name": "Python 3 (ipykernel)",
   "language": "python",
   "name": "python3"
  },
  "language_info": {
   "codemirror_mode": {
    "name": "ipython",
    "version": 3
   },
   "file_extension": ".py",
   "mimetype": "text/x-python",
   "name": "python",
   "nbconvert_exporter": "python",
   "pygments_lexer": "ipython3",
   "version": "3.9.7"
  }
 },
 "nbformat": 4,
 "nbformat_minor": 5
}
