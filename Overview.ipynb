{
 "cells": [
  {
   "cell_type": "markdown",
   "id": "b3b528b0-e065-4c07-9749-55afb1f24756",
   "metadata": {},
   "source": [
    "# 💻Coding for the Environment Machine Learning Workshop 🥳"
   ]
  },
  {
   "cell_type": "markdown",
   "id": "242c58c8-3dd0-4d16-9be3-d8cb0fb3a060",
   "metadata": {},
   "source": [
    "## Agenda\n",
    "\n",
    "1. Introductions\n",
    "2. Motivation\n",
    "3. ML Overview\n",
    "4. Clustering\n",
    "    - K-Means\n",
    "    - Hierarchical\n",
    "    - Gaussian Mixture\n",
    "5. Supervised Classification\n",
    "    - Support Vector Machines\n",
    "    - Decision Trees\n",
    "    - Random Forest\n",
    "6. Neural Networks\n",
    "7. scikit-learn"
   ]
  },
  {
   "cell_type": "markdown",
   "id": "fcc6fa98-ba1f-4f9c-9da6-a1ba8d4d7803",
   "metadata": {},
   "source": [
    "# Introductions 👋"
   ]
  },
  {
   "cell_type": "markdown",
   "id": "7d32707c-a367-4494-aab2-eac6af1a220c",
   "metadata": {},
   "source": [
    "# Setup"
   ]
  },
  {
   "cell_type": "markdown",
   "id": "b121c62e-c00b-48a3-a5a0-a0ebe6df8641",
   "metadata": {},
   "source": [
    "### 1. Set up container: https://cmgr.oit.duke.edu/\n",
    "\n",
    "### 2. Clone workshop stuff:\n",
    "`git clone https://github.com/caseyslaught/duke-c4e-ml-workshop.git`\n",
    "\n",
    "---"
   ]
  },
  {
   "cell_type": "markdown",
   "id": "adc3b2bd-d119-4b2d-90a7-29e1108de74a",
   "metadata": {},
   "source": [
    "# Overview 🤔\n",
    "\n",
    "### Machine learning is a BIG field.\n",
    "- This is a BIG field. You're gonna want to focus on something.\n",
    "    - Land cover classification (what land cover class is this?)\n",
    "    - Computer vision (what's in this photo?)\n",
    "    - Audio processing (what animal is in this recording?)\n",
    "    - Automated driving, natural language processing, automated robots, etc...\n",
    "\n",
    "![audio](images/spectrogram.jpeg)\n",
    "![computer vision](images/computer_vision.jpeg)\n",
    "![lulc](images/lulc.jpeg)\n",
    "\n",
    "### A brief history of ML\n",
    "- First ML programs in the 1950's\n",
    "- Deep Blue beats Garry Kasparov in 1997\n",
    "- Deep learning coined in 2006\n",
    "- Recent explosion due to new computational ability (GPU's), data availablily, new techniques.\n",
    "\n",
    "---\n",
    "\n",
    "### We're gonna focus on classification in this workshop.\n",
    "\n",
    "---\n",
    "\n",
    "## Unsupervised\n",
    "- No labeled data given\n",
    "- Goal is to find some structure in the data\n",
    "- ex. clustering\n",
    "\n",
    "![kmeans sat](images/kmeans_sat.png)\n",
    "\n",
    "---\n",
    "\n",
    "## Supervised\n",
    "- We do have labeled data\n",
    "- We train a model using the labeled data\n",
    "- We then predict the output given a new set of inputs\n",
    "- ex. regression, random forest, neural networks\n",
    "\n",
    "\n",
    "## We'll be considering clustering/classification problems. \n",
    "- Given a point with some attributes, what group does it belong to?\n",
    "- ex. species (size, hair?, scales?, gills?) → phylum\n",
    "\n",
    "---"
   ]
  },
  {
   "cell_type": "markdown",
   "id": "63a1a21b-d3e9-402f-8dde-11917169d54d",
   "metadata": {},
   "source": [
    "# Clustering 🧮"
   ]
  },
  {
   "cell_type": "markdown",
   "id": "8691e749-7e3f-4765-b045-b6bfbd296bf3",
   "metadata": {},
   "source": [
    "![](images/clusters_init.png)\n",
    "![](images/clusters_after.png)"
   ]
  },
  {
   "cell_type": "markdown",
   "id": "15b2e8d7-eca0-4d97-95b9-1dbafb1c18e2",
   "metadata": {},
   "source": [
    "## Clustering is all about grouping points using the data in out dataset\n",
    "\n",
    "### Why would we want to do this?\n",
    "- Understand the data better (maybe we don't know the groups in advance)\n",
    "- Explore potential classes for subsequent supervised analysis\n",
    "- Easily summarize data (kinda like compresion)\n",
    "\n",
    "### What are some potential problems?\n",
    "- Groups not neatly separated (lots of overlap, weird configurations)\n",
    "- Interpreting results takes domain knowledge\n",
    "\n",
    "![clusters](images/clustering.png)\n",
    "\n",
    "---"
   ]
  },
  {
   "cell_type": "markdown",
   "id": "23f561b5-748e-4033-90b3-5889e10d8b41",
   "metadata": {},
   "source": [
    "## Questions so far?\n",
    "\n",
    "---"
   ]
  },
  {
   "cell_type": "markdown",
   "id": "82902891-ed64-4010-935a-c32bb4448139",
   "metadata": {},
   "source": [
    "## Clustering | K-Means\n",
    "\n",
    "1. Initialize\n",
    "    - Define K cluster centers randomly (centroids)\n",
    "\n",
    "\n",
    "2. Iterate\n",
    "    - For each point calculate closest cluster\n",
    "    - Calculate mean of each cluster and make that mean the new cluster center  \n",
    "\n",
    "\n",
    "3. Terminate\n",
    "    - If no points reassigned then finished\n",
    "\n",
    "\n",
    "![kmeans](images/kmeans.png)\n",
    "![](images/kmeans_init.png)\n",
    "![](images/kmeans_after.png)"
   ]
  },
  {
   "cell_type": "markdown",
   "id": "959d53c7-7b1f-4b7c-a5d7-b7e36bd3cbbf",
   "metadata": {},
   "source": [
    "## Clustering | K-Means (cont.)\n",
    "\n",
    "- Benefits\n",
    "    - Easy(ish) to understand\n",
    "    \n",
    "- Downsides\n",
    "    - Very sensitive to initial cluster locations\n",
    "    - May terminate at local minimum (not global)\n",
    "    - May not know number of clusters in advance"
   ]
  },
  {
   "cell_type": "markdown",
   "id": "4ed59052-a893-4a36-8727-e52911b2157b",
   "metadata": {},
   "source": [
    "## With K-means we might not end up at the optimal solution.\n",
    "### To get around this we can: \n",
    "1. Calculate some metric of error for the K-means algorithms\n",
    "2. Run the algorithms a bunch of times and save the results\n",
    "3. Pick the result with the lowest error\n",
    "![](images/kmeans_bad.gif)"
   ]
  },
  {
   "cell_type": "markdown",
   "id": "ead948fc-9c5a-4da8-91d1-76217cb4689f",
   "metadata": {},
   "source": [
    "---"
   ]
  },
  {
   "cell_type": "markdown",
   "id": "4f4092a4-50ce-41d7-8452-0a8879a2c876",
   "metadata": {},
   "source": [
    "# Clustering | Mixture of Gaussians\n",
    "\n",
    "> What if our clusters are not symetrical?  \n",
    "> What if we have some overlap between cluseters?\n",
    "\n",
    "- Each group is represented by a Gaussian (normal) distribution\n",
    "- Each distribution has paramters: mean, covariance, and height\n",
    "- Goal is to find best set of parameters for the data\n",
    "\n",
    "![gaussian mixture](images/mixture.png)"
   ]
  },
  {
   "cell_type": "markdown",
   "id": "febea109-c1e4-4f9d-a207-2caa7dccfd98",
   "metadata": {},
   "source": [
    "![](images/kmeans_init.png)\n",
    "![](images/mixture_after.png)\n",
    "\n",
    "---"
   ]
  },
  {
   "cell_type": "markdown",
   "id": "d7837b09-edb1-4882-a8f7-d16f3d304602",
   "metadata": {},
   "source": [
    "## Clustering | Validation\n",
    "\n",
    "### How do we evaluate if our model is any good?\n",
    "#### With supervised learning we can withhold some of our labeled data to test our model.\n",
    "#### However, unsupervised learning doesn't have a source of truth."
   ]
  },
  {
   "cell_type": "markdown",
   "id": "3e2db9bf-6158-420a-b48d-0d08174bdf05",
   "metadata": {},
   "source": [
    "#### Internal validation\n",
    "- Here we are asking, how cohesive (similar to each other) are clusters?\n",
    "- Also, how different are different clusters?\n",
    "- A good result (valid) will have high cohesion within clusters and high separation between clusters.\n",
    "![](images/internal_val.png)\n",
    "![](images/internal_val_score.png)\n",
    "#### Silhouette coefficient, Calisnki-Harabasz coefficient, Dunn index, Xie-Beni score, Hartigan index\n",
    "\n",
    "#### External validation \n",
    "- We can only due this if we have true labels for the clusters\n",
    "- Compare points from generated result to known clusters  \n",
    "![](images/external_val.png)\n",
    "### Jaccard Similarity, Mutual Information, Fowlkes-Mallows Index"
   ]
  },
  {
   "cell_type": "markdown",
   "id": "59896e1b-8576-4a0e-8599-c473422cc3b9",
   "metadata": {},
   "source": [
    "# Supervised Learning"
   ]
  },
  {
   "cell_type": "markdown",
   "id": "83246df1-cc1f-49c6-b2ab-5f60e0c8785c",
   "metadata": {},
   "source": [
    "## Decision Trees"
   ]
  },
  {
   "cell_type": "markdown",
   "id": "b1ebf4ae-c057-48a2-9ca8-030a5a8cae44",
   "metadata": {},
   "source": [
    "## Random Forest"
   ]
  },
  {
   "cell_type": "markdown",
   "id": "55afc17a-c0d5-4e0e-82c4-1a45e3bcaa8b",
   "metadata": {},
   "source": [
    "## Boosting"
   ]
  },
  {
   "cell_type": "markdown",
   "id": "cacfbf52-0834-41a9-89ff-fea6e19b74e4",
   "metadata": {},
   "source": [
    "## Neural Networks"
   ]
  },
  {
   "cell_type": "markdown",
   "id": "f9ef61f1-7d97-4d50-a7c4-ff1ce4093237",
   "metadata": {},
   "source": [
    "## References\n",
    "\n",
    "History of ML\n",
    "https://www.forbes.com/sites/bernardmarr/2016/02/19/a-short-history-of-machine-learning-every-manager-should-read/?sh=66c6d5af15e7\n",
    "\n",
    "Awesome Deep Ecology\n",
    "https://github.com/patrickcgray/awesome-deep-ecology\n",
    "\n",
    "Unsupervised Validation  \n",
    "https://www.guavus.com/technical-blog/unsupervised-machine-learning-validation-techniques/\n"
   ]
  }
 ],
 "metadata": {
  "kernelspec": {
   "display_name": "Python 3 (ipykernel)",
   "language": "python",
   "name": "python3"
  },
  "language_info": {
   "codemirror_mode": {
    "name": "ipython",
    "version": 3
   },
   "file_extension": ".py",
   "mimetype": "text/x-python",
   "name": "python",
   "nbconvert_exporter": "python",
   "pygments_lexer": "ipython3",
   "version": "3.9.7"
  }
 },
 "nbformat": 4,
 "nbformat_minor": 5
}
